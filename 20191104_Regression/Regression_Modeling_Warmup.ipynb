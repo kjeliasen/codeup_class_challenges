{
 "cells": [
  {
   "cell_type": "markdown",
   "metadata": {},
   "source": [
    "# Regression Modeling Warmup"
   ]
  },
  {
   "cell_type": "markdown",
   "metadata": {},
   "source": [
    "1. **Using `pydataset`, load the `faithful` dataset and read it's documentation.**"
   ]
  },
  {
   "cell_type": "code",
   "execution_count": 25,
   "metadata": {},
   "outputs": [],
   "source": [
    "import pandas as pd\n",
    "import numpy as np\n",
    "import matplotlib.pyplot as plt\n",
    "import seaborn as sns\n",
    "from sklearn.model_selection import train_test_split\n",
    "from sklearn.metrics import mean_squared_error, r2_score, explained_variance_score\n",
    "from sklearn.linear_model import LassoCV\n",
    "from scipy import stats"
   ]
  },
  {
   "cell_type": "code",
   "execution_count": 26,
   "metadata": {},
   "outputs": [],
   "source": [
    "from pydataset import data\n",
    "df = data('faithful')"
   ]
  },
  {
   "cell_type": "code",
   "execution_count": 27,
   "metadata": {},
   "outputs": [
    {
     "name": "stdout",
     "output_type": "stream",
     "text": [
      "faithful\n",
      "\n",
      "PyDataset Documentation (adopted from R Documentation. The displayed examples are in R)\n",
      "\n",
      "## Old Faithful Geyser Data\n",
      "\n",
      "### Description\n",
      "\n",
      "Waiting time between eruptions and the duration of the eruption for the Old\n",
      "Faithful geyser in Yellowstone National Park, Wyoming, USA.\n",
      "\n",
      "### Usage\n",
      "\n",
      "    faithful\n",
      "\n",
      "### Format\n",
      "\n",
      "A data frame with 272 observations on 2 variables.\n",
      "\n",
      "[,1]\n",
      "\n",
      "eruptions\n",
      "\n",
      "numeric\n",
      "\n",
      "Eruption time in mins\n",
      "\n",
      "[,2]\n",
      "\n",
      "waiting\n",
      "\n",
      "numeric\n",
      "\n",
      "Waiting time to next eruption (in mins)\n",
      "\n",
      "### Details\n",
      "\n",
      "A closer look at `faithful$eruptions` reveals that these are heavily rounded\n",
      "times originally in seconds, where multiples of 5 are more frequent than\n",
      "expected under non-human measurement. For a better version of the eruption\n",
      "times, see the example below.\n",
      "\n",
      "There are many versions of this dataset around: Azzalini and Bowman (1990) use\n",
      "a more complete version.\n",
      "\n",
      "### Source\n",
      "\n",
      "W. Härdle.\n",
      "\n",
      "### References\n",
      "\n",
      "Härdle, W. (1991) _Smoothing Techniques with Implementation in S_. New York:\n",
      "Springer.\n",
      "\n",
      "Azzalini, A. and Bowman, A. W. (1990). A look at some data on the Old Faithful\n",
      "geyser. _Applied Statistics_ **39**, 357–365.\n",
      "\n",
      "### See Also\n",
      "\n",
      "`geyser` in package MASS for the Azzalini–Bowman version.\n",
      "\n",
      "### Examples\n",
      "\n",
      "    require(stats); require(graphics)\n",
      "    f.tit <-  \"faithful data: Eruptions of Old Faithful\"\n",
      "    ne60 <- round(e60 <- 60 * faithful$eruptions)\n",
      "    all.equal(e60, ne60)             # relative diff. ~ 1/10000\n",
      "    table(zapsmall(abs(e60 - ne60))) # 0, 0.02 or 0.04\n",
      "    faithful$better.eruptions <- ne60 / 60\n",
      "    te <- table(ne60)\n",
      "    te[te >= 4]                      # (too) many multiples of 5 !\n",
      "    plot(names(te), te, type = \"h\", main = f.tit, xlab = \"Eruption time (sec)\")\n",
      "    plot(faithful[, -3], main = f.tit,\n",
      "         xlab = \"Eruption time (min)\",\n",
      "         ylab = \"Waiting time to next eruption (min)\")\n",
      "    lines(lowess(faithful$eruptions, faithful$waiting, f = 2/3, iter = 3),\n",
      "          col = \"red\")\n",
      "\n",
      "\n"
     ]
    }
   ],
   "source": [
    "data('faithful', show_doc=True)"
   ]
  },
  {
   "cell_type": "code",
   "execution_count": 11,
   "metadata": {},
   "outputs": [
    {
     "name": "stdout",
     "output_type": "stream",
     "text": [
      "DATAFRAME SHAPE:\n",
      "(272, 2) \n",
      "\n",
      "DATAFRAME INFO:\n",
      "<class 'pandas.core.frame.DataFrame'>\n",
      "Int64Index: 272 entries, 1 to 272\n",
      "Data columns (total 2 columns):\n",
      "eruptions    272 non-null float64\n",
      "waiting      272 non-null int64\n",
      "dtypes: float64(1), int64(1)\n",
      "memory usage: 6.4 KB\n",
      "None \n",
      "\n",
      "DATAFRAME DESCRIPTION:\n",
      "           count       mean        std   min       25%   50%       75%   max\n",
      "eruptions  272.0   3.487783   1.141371   1.6   2.16275   4.0   4.45425   5.1\n",
      "waiting    272.0  70.897059  13.594974  43.0  58.00000  76.0  82.00000  96.0 \n",
      "\n",
      "DATAFRAME HEAD:\n",
      "   eruptions  waiting\n",
      "1      3.600       79\n",
      "2      1.800       54\n",
      "3      3.333       74\n",
      "4      2.283       62\n",
      "5      4.533       85 \n",
      "\n"
     ]
    }
   ],
   "source": [
    "from debug import local_settings, timeifdebug, timeargsifdebug, frame_splain\n",
    "frame_splain(df, splain=True)"
   ]
  },
  {
   "cell_type": "markdown",
   "metadata": {},
   "source": [
    "2. **What is pearson's r for the two variables?**"
   ]
  },
  {
   "cell_type": "code",
   "execution_count": 24,
   "metadata": {},
   "outputs": [
    {
     "name": "stdout",
     "output_type": "stream",
     "text": [
      "Pearson's r: 0.9008111683218134\n"
     ]
    }
   ],
   "source": [
    "cor = df.corr()\n",
    "r_eruptions_waiting = cor.iloc[1][0]\n",
    "print(\"Pearson's r:\", r_eruptions_waiting)"
   ]
  },
  {
   "cell_type": "markdown",
   "metadata": {},
   "source": [
    "3. **Visualize the relationship between the variables.**"
   ]
  },
  {
   "cell_type": "code",
   "execution_count": 129,
   "metadata": {},
   "outputs": [],
   "source": [
    "X_df=df[['waiting']]\n",
    "X_vals=df.waiting\n",
    "y_vals=df['eruptions']"
   ]
  },
  {
   "cell_type": "code",
   "execution_count": 130,
   "metadata": {},
   "outputs": [
    {
     "data": {
      "text/plain": [
       "<seaborn.axisgrid.JointGrid at 0x1c27aaf438>"
      ]
     },
     "execution_count": 130,
     "metadata": {},
     "output_type": "execute_result"
    },
    {
     "data": {
      "image/png": "[encoded data removed]",
      "text/plain": [
       "<Figure size 432x432 with 3 Axes>"
      ]
     },
     "metadata": {
      "needs_background": "light"
     },
     "output_type": "display_data"
    }
   ],
   "source": [
    "sns.jointplot(x=X_vals, y=y_vals)"
   ]
  },
  {
   "cell_type": "markdown",
   "metadata": {},
   "source": [
    "4. **Build a linear model that predicts eruptions based on waiting.**"
   ]
  },
  {
   "cell_type": "code",
   "execution_count": 131,
   "metadata": {},
   "outputs": [],
   "source": [
    "from sklearn.linear_model import LinearRegression"
   ]
  },
  {
   "cell_type": "code",
   "execution_count": 132,
   "metadata": {},
   "outputs": [],
   "source": [
    "from math import sqrt\n",
    "from sklearn.metrics import mean_squared_error"
   ]
  },
  {
   "cell_type": "code",
   "execution_count": 133,
   "metadata": {},
   "outputs": [],
   "source": [
    "model = LinearRegression().fit(X_df,y_vals)"
   ]
  },
  {
   "cell_type": "code",
   "execution_count": 134,
   "metadata": {},
   "outputs": [],
   "source": [
    "pred = model.predict(X_df)\n",
    "\n",
    "rmse = sqrt(mean_squared_error(y_vals, pred))"
   ]
  },
  {
   "cell_type": "markdown",
   "metadata": {},
   "source": [
    "5. **Create a visualization with your predictions**\n",
    "\n",
    "    i. waiting should be on the x axis, and eruptions on the y\n",
    "    \n",
    "    ii. Use color to differentiate the actual vs predicted values.\n",
    "    \n",
    "    iii. Add a descriptive title.\n",
    "    \n",
    "    iv. Change the y ticks such that they are all integers (i.e. no decimals)\n",
    "    \n",
    "    v. Add the root mean squared error of your predictions as an annotation"
   ]
  },
  {
   "cell_type": "code",
   "execution_count": 135,
   "metadata": {},
   "outputs": [
    {
     "data": {
      "text/plain": [
       "Text(45, 4, 'RMSE: 0.4947')"
      ]
     },
     "execution_count": 135,
     "metadata": {},
     "output_type": "execute_result"
    },
    {
     "data": {
      "image/png": "[encoded data removed]",
      "text/plain": [
       "<Figure size 432x288 with 1 Axes>"
      ]
     },
     "metadata": {
      "needs_background": "light"
     },
     "output_type": "display_data"
    }
   ],
   "source": [
    "plt.scatter(X_df, y_vals, label='Actual Value', alpha=.6)\n",
    "plt.scatter(X_df, pred, label='Prediction', alpha=.6)\n",
    "plt.xlabel('Waiting (minutes)')\n",
    "plt.ylabel('Eruptions (minutes)')\n",
    "plt.title('Actual vs Predicted Eruptions')\n",
    "plt.legend()\n",
    "plt.yticks(range(1,7))\n",
    "plt.text(45, 4, f'RMSE: {rmse:.4f}')"
   ]
  },
  {
   "cell_type": "markdown",
   "metadata": {},
   "source": [
    "**And add melting ...**"
   ]
  },
  {
   "cell_type": "code",
   "execution_count": 157,
   "metadata": {},
   "outputs": [],
   "source": [
    "df_pred = df[['waiting', 'eruptions']].rename_axis('idx_val')"
   ]
  },
  {
   "cell_type": "code",
   "execution_count": 158,
   "metadata": {},
   "outputs": [],
   "source": [
    "df_pred['pred'] = pred"
   ]
  },
  {
   "cell_type": "code",
   "execution_count": 160,
   "metadata": {},
   "outputs": [],
   "source": [
    "df_pred = df_pred.sort_values(by='idx_val')"
   ]
  },
  {
   "cell_type": "code",
   "execution_count": 161,
   "metadata": {},
   "outputs": [
    {
     "name": "stdout",
     "output_type": "stream",
     "text": [
      "DATAFRAME SHAPE:\n",
      "(272, 3) \n",
      "\n",
      "DATAFRAME INFO:\n",
      "<class 'pandas.core.frame.DataFrame'>\n",
      "Int64Index: 272 entries, 1 to 272\n",
      "Data columns (total 3 columns):\n",
      "waiting      272 non-null int64\n",
      "eruptions    272 non-null float64\n",
      "pred         272 non-null float64\n",
      "dtypes: float64(2), int64(1)\n",
      "memory usage: 8.5 KB\n",
      "None \n",
      "\n",
      "DATAFRAME DESCRIPTION:\n",
      "           count       mean        std        min        25%        50%  \\\n",
      "waiting    272.0  70.897059  13.594974  43.000000  58.000000  76.000000   \n",
      "eruptions  272.0   3.487783   1.141371   1.600000   2.162750   4.000000   \n",
      "pred       272.0   3.487783   1.028160   1.377986   2.512405   3.873708   \n",
      "\n",
      "                 75%        max  \n",
      "waiting    82.000000  96.000000  \n",
      "eruptions   4.454250   5.100000  \n",
      "pred        4.327476   5.386267   \n",
      "\n",
      "DATAFRAME HEAD:\n",
      "         waiting  eruptions      pred\n",
      "idx_val                              \n",
      "1             79      3.600  4.100592\n",
      "2             54      1.800  2.209893\n",
      "3             74      3.333  3.722452\n",
      "4             62      2.283  2.814917\n",
      "5             85      4.533  4.554360 \n",
      "\n"
     ]
    }
   ],
   "source": [
    "frame_splain(df_pred, splain=True)"
   ]
  },
  {
   "cell_type": "code",
   "execution_count": 176,
   "metadata": {},
   "outputs": [],
   "source": [
    "df_melt = df_pred.reset_index()\n",
    "\n"
   ]
  },
  {
   "cell_type": "code",
   "execution_count": null,
   "metadata": {},
   "outputs": [],
   "source": [
    "df_melt = df_melt.melt(id_vars=['idx_val','waiting'])"
   ]
  },
  {
   "cell_type": "code",
   "execution_count": 177,
   "metadata": {},
   "outputs": [
    {
     "data": {
      "text/html": [
       "<div>\n",
       "<style scoped>\n",
       "    .dataframe tbody tr th:only-of-type {\n",
       "        vertical-align: middle;\n",
       "    }\n",
       "\n",
       "    .dataframe tbody tr th {\n",
       "        vertical-align: top;\n",
       "    }\n",
       "\n",
       "    .dataframe thead th {\n",
       "        text-align: right;\n",
       "    }\n",
       "</style>\n",
       "<table border=\"1\" class=\"dataframe\">\n",
       "  <thead>\n",
       "    <tr style=\"text-align: right;\">\n",
       "      <th></th>\n",
       "      <th>idx_val</th>\n",
       "      <th>waiting</th>\n",
       "      <th>eruptions</th>\n",
       "      <th>pred</th>\n",
       "    </tr>\n",
       "  </thead>\n",
       "  <tbody>\n",
       "    <tr>\n",
       "      <th>0</th>\n",
       "      <td>1</td>\n",
       "      <td>79</td>\n",
       "      <td>3.600</td>\n",
       "      <td>4.100592</td>\n",
       "    </tr>\n",
       "    <tr>\n",
       "      <th>1</th>\n",
       "      <td>2</td>\n",
       "      <td>54</td>\n",
       "      <td>1.800</td>\n",
       "      <td>2.209893</td>\n",
       "    </tr>\n",
       "    <tr>\n",
       "      <th>2</th>\n",
       "      <td>3</td>\n",
       "      <td>74</td>\n",
       "      <td>3.333</td>\n",
       "      <td>3.722452</td>\n",
       "    </tr>\n",
       "    <tr>\n",
       "      <th>3</th>\n",
       "      <td>4</td>\n",
       "      <td>62</td>\n",
       "      <td>2.283</td>\n",
       "      <td>2.814917</td>\n",
       "    </tr>\n",
       "    <tr>\n",
       "      <th>4</th>\n",
       "      <td>5</td>\n",
       "      <td>85</td>\n",
       "      <td>4.533</td>\n",
       "      <td>4.554360</td>\n",
       "    </tr>\n",
       "    <tr>\n",
       "      <th>5</th>\n",
       "      <td>6</td>\n",
       "      <td>55</td>\n",
       "      <td>2.883</td>\n",
       "      <td>2.285521</td>\n",
       "    </tr>\n",
       "    <tr>\n",
       "      <th>6</th>\n",
       "      <td>7</td>\n",
       "      <td>88</td>\n",
       "      <td>4.700</td>\n",
       "      <td>4.781243</td>\n",
       "    </tr>\n",
       "    <tr>\n",
       "      <th>7</th>\n",
       "      <td>8</td>\n",
       "      <td>85</td>\n",
       "      <td>3.600</td>\n",
       "      <td>4.554360</td>\n",
       "    </tr>\n",
       "    <tr>\n",
       "      <th>8</th>\n",
       "      <td>9</td>\n",
       "      <td>51</td>\n",
       "      <td>1.950</td>\n",
       "      <td>1.983009</td>\n",
       "    </tr>\n",
       "    <tr>\n",
       "      <th>9</th>\n",
       "      <td>10</td>\n",
       "      <td>85</td>\n",
       "      <td>4.350</td>\n",
       "      <td>4.554360</td>\n",
       "    </tr>\n",
       "  </tbody>\n",
       "</table>\n",
       "</div>"
      ],
      "text/plain": [
       "   idx_val  waiting  eruptions      pred\n",
       "0        1       79      3.600  4.100592\n",
       "1        2       54      1.800  2.209893\n",
       "2        3       74      3.333  3.722452\n",
       "3        4       62      2.283  2.814917\n",
       "4        5       85      4.533  4.554360\n",
       "5        6       55      2.883  2.285521\n",
       "6        7       88      4.700  4.781243\n",
       "7        8       85      3.600  4.554360\n",
       "8        9       51      1.950  1.983009\n",
       "9       10       85      4.350  4.554360"
      ]
     },
     "execution_count": 177,
     "metadata": {},
     "output_type": "execute_result"
    }
   ],
   "source": [
    "df_melt.head(10)"
   ]
  },
  {
   "cell_type": "code",
   "execution_count": 142,
   "metadata": {},
   "outputs": [
    {
     "name": "stdout",
     "output_type": "stream",
     "text": [
      "DATAFRAME SHAPE:\n",
      "(544, 3) \n",
      "\n",
      "DATAFRAME INFO:\n",
      "<class 'pandas.core.frame.DataFrame'>\n",
      "Int64Index: 544 entries, 0 to 543\n",
      "Data columns (total 3 columns):\n",
      "waiting     544 non-null int64\n",
      "variable    544 non-null object\n",
      "value       544 non-null float64\n",
      "dtypes: float64(1), int64(1), object(1)\n",
      "memory usage: 17.0+ KB\n",
      "None \n",
      "\n",
      "DATAFRAME DESCRIPTION:\n",
      "         count       mean        std        min        25%     50%        75%  \\\n",
      "waiting  544.0  70.897059  13.582450  43.000000  58.000000  76.000  82.000000   \n",
      "value    544.0   3.487783   1.085241   1.377986   2.285521   3.917   4.400776   \n",
      "\n",
      "               max  \n",
      "waiting  96.000000  \n",
      "value     5.386267   \n",
      "\n",
      "DATAFRAME HEAD:\n",
      "        waiting   variable  value\n",
      "idxval                           \n",
      "0            79  eruptions  3.600\n",
      "1            54  eruptions  1.800\n",
      "2            74  eruptions  3.333\n",
      "3            62  eruptions  2.283\n",
      "4            85  eruptions  4.533 \n",
      "\n"
     ]
    }
   ],
   "source": [
    "frame_splain(df_melt, splain=True)"
   ]
  },
  {
   "cell_type": "code",
   "execution_count": 120,
   "metadata": {},
   "outputs": [
    {
     "name": "stdout",
     "output_type": "stream",
     "text": [
      "None\n"
     ]
    }
   ],
   "source": [
    "print(df_melt.index.name)"
   ]
  },
  {
   "cell_type": "code",
   "execution_count": null,
   "metadata": {},
   "outputs": [],
   "source": []
  }
 ],
 "metadata": {
  "kernelspec": {
   "display_name": "Python 3",
   "language": "python",
   "name": "python3"
  },
  "language_info": {
   "codemirror_mode": {
    "name": "ipython",
    "version": 3
   },
   "file_extension": ".py",
   "mimetype": "text/x-python",
   "name": "python",
   "nbconvert_exporter": "python",
   "pygments_lexer": "ipython3",
   "version": "3.7.3"
  }
 },
 "nbformat": 4,
 "nbformat_minor": 2
}
