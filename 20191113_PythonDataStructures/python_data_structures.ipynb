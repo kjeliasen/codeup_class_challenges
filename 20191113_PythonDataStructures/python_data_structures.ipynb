{
 "cells": [
  {
   "cell_type": "markdown",
   "metadata": {},
   "source": [
    "# Python Data Structures Warmup\n",
    "\n",
    "### 13 Nov, 2019"
   ]
  },
  {
   "cell_type": "markdown",
   "metadata": {},
   "source": [
    "1. **Copy the data below and save it as `bayes.json`**"
   ]
  },
  {
   "cell_type": "markdown",
   "metadata": {},
   "source": [
    "    ```json\n",
    "    {\n",
    "        \"Floor\": 6,\n",
    "        \"Instructors\": [\n",
    "            {\"name\": \"Ryan\", \"favoriteLanguages\": [\"python\", \"clojure\"]},\n",
    "            {\"name\": \"Maggie\", \"favoriteLanguages\": [\"python\", \"R\", \"java\"]},\n",
    "            {\"name\": \"David\", \"favoriteLanguages\": [\"python\", \"matlab\"]},\n",
    "            {\"name\": \"Zach\", \"favoriteLanguages\": [\"python\", \"bash\"]}\n",
    "        ],\n",
    "        \"Location\": \"Blanco\",\n",
    "        \"Students\": [\n",
    "            {\"name\": \"Sally\", \"examGrades\": [62, 85, 80]},\n",
    "            {\"name\": \"Jane\", \"examGrades\": [88, 79, 67]},\n",
    "            {\"name\": \"Suzie\", \"examGrades\": [94, 74, 95]},\n",
    "            {\"name\": \"Billy\", \"examGrades\": [98, 96, 88]},\n",
    "            {\"name\": \"Ada\", \"examGrades\": [77, 92, 98]},\n",
    "            {\"name\": \"John\", \"examGrades\": [79, 76, 93]},\n",
    "            {\"name\": \"Thomas\", \"examGrades\": [82, 64, 81]},\n",
    "            {\"name\": \"Marie\", \"examGrades\": [93, 63, 90]},\n",
    "            {\"name\": \"Albert\", \"examGrades\": [92, 62, 87]},\n",
    "            {\"name\": \"Richard\", \"examGrades\": [69, 80, 94]},\n",
    "            {\"name\": \"Isaac\", \"examGrades\": [92, 99, 93]},\n",
    "            {\"name\": \"Alan\", \"examGrades\": [92, 62, 72]}\n",
    "        ],\n",
    "        \"isActive\": true\n",
    "    }\n",
    "    ```"
   ]
  },
  {
   "cell_type": "markdown",
   "metadata": {},
   "source": [
    "2. **Do your work in a python script, jupyter notebook, or interactive python (or\n",
    "   ipython) session.**\n",
    "\n",
    "3. **Import the `json` module and use the `json.load` function to read the\n",
    "   `bayes.json` file you created.**"
   ]
  },
  {
   "cell_type": "code",
   "execution_count": 1,
   "metadata": {},
   "outputs": [],
   "source": [
    "import json\n",
    "from pprint import pprint"
   ]
  },
  {
   "cell_type": "code",
   "execution_count": 2,
   "metadata": {},
   "outputs": [],
   "source": [
    "with open('./bayes.json') as f:\n",
    "    bayes = json.load(f)"
   ]
  },
  {
   "cell_type": "code",
   "execution_count": 3,
   "metadata": {},
   "outputs": [
    {
     "name": "stdout",
     "output_type": "stream",
     "text": [
      "{'Floor': 6,\n",
      " 'Instructors': [{'favoriteLanguages': ['python', 'clojure'], 'name': 'Ryan'},\n",
      "                 {'favoriteLanguages': ['python', 'R', 'java'],\n",
      "                  'name': 'Maggie'},\n",
      "                 {'favoriteLanguages': ['python', 'matlab'], 'name': 'David'},\n",
      "                 {'favoriteLanguages': ['python', 'bash'], 'name': 'Zach'}],\n",
      " 'Location': 'Blanco',\n",
      " 'Students': [{'examGrades': [62, 85, 80], 'name': 'Sally'},\n",
      "              {'examGrades': [88, 79, 67], 'name': 'Jane'},\n",
      "              {'examGrades': [94, 74, 95], 'name': 'Suzie'},\n",
      "              {'examGrades': [98, 96, 88], 'name': 'Billy'},\n",
      "              {'examGrades': [77, 92, 98], 'name': 'Ada'},\n",
      "              {'examGrades': [79, 76, 93], 'name': 'John'},\n",
      "              {'examGrades': [82, 64, 81], 'name': 'Thomas'},\n",
      "              {'examGrades': [93, 63, 90], 'name': 'Marie'},\n",
      "              {'examGrades': [92, 62, 87], 'name': 'Albert'},\n",
      "              {'examGrades': [69, 80, 94], 'name': 'Richard'},\n",
      "              {'examGrades': [92, 99, 93], 'name': 'Isaac'},\n",
      "              {'examGrades': [92, 62, 72], 'name': 'Alan'}],\n",
      " 'isActive': True}\n"
     ]
    }
   ],
   "source": [
    "pprint(bayes)"
   ]
  },
  {
   "cell_type": "code",
   "execution_count": 4,
   "metadata": {},
   "outputs": [
    {
     "name": "stdout",
     "output_type": "stream",
     "text": [
      "6\n"
     ]
    }
   ],
   "source": [
    "pprint(bayes['Floor'])"
   ]
  },
  {
   "cell_type": "code",
   "execution_count": 5,
   "metadata": {},
   "outputs": [
    {
     "name": "stdout",
     "output_type": "stream",
     "text": [
      "[{'favoriteLanguages': ['python', 'clojure'], 'name': 'Ryan'},\n",
      " {'favoriteLanguages': ['python', 'R', 'java'], 'name': 'Maggie'},\n",
      " {'favoriteLanguages': ['python', 'matlab'], 'name': 'David'},\n",
      " {'favoriteLanguages': ['python', 'bash'], 'name': 'Zach'}]\n"
     ]
    }
   ],
   "source": [
    "pprint(bayes['Instructors'])"
   ]
  },
  {
   "cell_type": "code",
   "execution_count": 6,
   "metadata": {},
   "outputs": [
    {
     "name": "stdout",
     "output_type": "stream",
     "text": [
      "('Floor', <class 'int'>, 'Floor')\n",
      "('Instructors', <class 'list'>, 'Instructors')\n",
      "('Location', <class 'str'>, 'Location')\n",
      "('Students', <class 'list'>, 'Students')\n",
      "('isActive', <class 'bool'>, 'isActive')\n"
     ]
    }
   ],
   "source": [
    "d = bayes\n",
    "\n",
    "for k in d:\n",
    "    t = (k, type(d[k]), k)\n",
    "    pprint(t)\n",
    "    "
   ]
  },
  {
   "cell_type": "markdown",
   "metadata": {},
   "source": [
    "4. **Write the code necessary to answer the following questions:**"
   ]
  },
  {
   "cell_type": "markdown",
   "metadata": {},
   "source": [
    "- **Print out a message that gives the location of the class using the location and the floor properties.**"
   ]
  },
  {
   "cell_type": "code",
   "execution_count": 7,
   "metadata": {},
   "outputs": [
    {
     "name": "stdout",
     "output_type": "stream",
     "text": [
      "'The class is located in room Blanco on floor 6.'\n"
     ]
    }
   ],
   "source": [
    "room = bayes['Location']\n",
    "floor = bayes['Floor']\n",
    "\n",
    "pprint(f'The class is located in room {room} on floor {floor}.')"
   ]
  },
  {
   "cell_type": "markdown",
   "metadata": {},
   "source": [
    "- **If the class is active, print a message that says so.**"
   ]
  },
  {
   "cell_type": "code",
   "execution_count": 8,
   "metadata": {},
   "outputs": [
    {
     "name": "stdout",
     "output_type": "stream",
     "text": [
      "'The class is currently active.'\n"
     ]
    }
   ],
   "source": [
    "is_it = 'is' if bayes['isActive'] else 'is not'\n",
    "\n",
    "pprint(f'The class {is_it} currently active.')"
   ]
  },
  {
   "cell_type": "markdown",
   "metadata": {},
   "source": [
    "- **Print out the number of students and number of instructors.**"
   ]
  },
  {
   "cell_type": "code",
   "execution_count": 9,
   "metadata": {},
   "outputs": [
    {
     "name": "stdout",
     "output_type": "stream",
     "text": [
      "'There are 12 students and 4 instructors.'\n"
     ]
    }
   ],
   "source": [
    "li = bayes['Instructors']\n",
    "ls = bayes['Students']\n",
    "pprint(f'There are {len(ls)} students and {len(li)} instructors.')"
   ]
  },
  {
   "cell_type": "markdown",
   "metadata": {},
   "source": [
    "- **Print out the name of the instructor that has the most favorite languages.**"
   ]
  },
  {
   "cell_type": "code",
   "execution_count": 10,
   "metadata": {},
   "outputs": [
    {
     "name": "stdout",
     "output_type": "stream",
     "text": [
      "'Maggie has the most favorite languages, with 3.'\n"
     ]
    }
   ],
   "source": [
    "most_favs = 0\n",
    "for i in li:\n",
    "    s = len(i['favoriteLanguages'])\n",
    "    if s > most_favs:\n",
    "        most_favs = s\n",
    "        n = i['name']\n",
    "pprint(f'{n} has the most favorite languages, with {most_favs}.')"
   ]
  },
  {
   "cell_type": "markdown",
   "metadata": {},
   "source": [
    "##### Zack's alternative:"
   ]
  },
  {
   "cell_type": "code",
   "execution_count": 11,
   "metadata": {},
   "outputs": [],
   "source": [
    "for i in li:\n",
    "    i['n_favs'] = len(i['favoriteLanguages'])"
   ]
  },
  {
   "cell_type": "code",
   "execution_count": 12,
   "metadata": {},
   "outputs": [
    {
     "name": "stdout",
     "output_type": "stream",
     "text": [
      "[{'favoriteLanguages': ['python', 'clojure'], 'n_favs': 2, 'name': 'Ryan'},\n",
      " {'favoriteLanguages': ['python', 'R', 'java'], 'n_favs': 3, 'name': 'Maggie'},\n",
      " {'favoriteLanguages': ['python', 'matlab'], 'n_favs': 2, 'name': 'David'},\n",
      " {'favoriteLanguages': ['python', 'bash'], 'n_favs': 2, 'name': 'Zach'}]\n"
     ]
    }
   ],
   "source": [
    "pprint(li)"
   ]
  },
  {
   "cell_type": "code",
   "execution_count": 13,
   "metadata": {},
   "outputs": [
    {
     "data": {
      "text/plain": [
       "{'name': 'Maggie', 'favoriteLanguages': ['python', 'R', 'java'], 'n_favs': 3}"
      ]
     },
     "execution_count": 13,
     "metadata": {},
     "output_type": "execute_result"
    }
   ],
   "source": [
    "max(li, key=lambda i: i['n_favs'])"
   ]
  },
  {
   "cell_type": "markdown",
   "metadata": {},
   "source": [
    "- **Import pandas and create a dataframe from the student data. What do you notice?**"
   ]
  },
  {
   "cell_type": "code",
   "execution_count": 14,
   "metadata": {},
   "outputs": [
    {
     "data": {
      "text/html": [
       "<div>\n",
       "<style scoped>\n",
       "    .dataframe tbody tr th:only-of-type {\n",
       "        vertical-align: middle;\n",
       "    }\n",
       "\n",
       "    .dataframe tbody tr th {\n",
       "        vertical-align: top;\n",
       "    }\n",
       "\n",
       "    .dataframe thead th {\n",
       "        text-align: right;\n",
       "    }\n",
       "</style>\n",
       "<table border=\"1\" class=\"dataframe\">\n",
       "  <thead>\n",
       "    <tr style=\"text-align: right;\">\n",
       "      <th></th>\n",
       "      <th>examGrades</th>\n",
       "      <th>name</th>\n",
       "    </tr>\n",
       "  </thead>\n",
       "  <tbody>\n",
       "    <tr>\n",
       "      <th>0</th>\n",
       "      <td>[62, 85, 80]</td>\n",
       "      <td>Sally</td>\n",
       "    </tr>\n",
       "    <tr>\n",
       "      <th>1</th>\n",
       "      <td>[88, 79, 67]</td>\n",
       "      <td>Jane</td>\n",
       "    </tr>\n",
       "    <tr>\n",
       "      <th>2</th>\n",
       "      <td>[94, 74, 95]</td>\n",
       "      <td>Suzie</td>\n",
       "    </tr>\n",
       "    <tr>\n",
       "      <th>3</th>\n",
       "      <td>[98, 96, 88]</td>\n",
       "      <td>Billy</td>\n",
       "    </tr>\n",
       "    <tr>\n",
       "      <th>4</th>\n",
       "      <td>[77, 92, 98]</td>\n",
       "      <td>Ada</td>\n",
       "    </tr>\n",
       "    <tr>\n",
       "      <th>5</th>\n",
       "      <td>[79, 76, 93]</td>\n",
       "      <td>John</td>\n",
       "    </tr>\n",
       "    <tr>\n",
       "      <th>6</th>\n",
       "      <td>[82, 64, 81]</td>\n",
       "      <td>Thomas</td>\n",
       "    </tr>\n",
       "    <tr>\n",
       "      <th>7</th>\n",
       "      <td>[93, 63, 90]</td>\n",
       "      <td>Marie</td>\n",
       "    </tr>\n",
       "    <tr>\n",
       "      <th>8</th>\n",
       "      <td>[92, 62, 87]</td>\n",
       "      <td>Albert</td>\n",
       "    </tr>\n",
       "    <tr>\n",
       "      <th>9</th>\n",
       "      <td>[69, 80, 94]</td>\n",
       "      <td>Richard</td>\n",
       "    </tr>\n",
       "    <tr>\n",
       "      <th>10</th>\n",
       "      <td>[92, 99, 93]</td>\n",
       "      <td>Isaac</td>\n",
       "    </tr>\n",
       "    <tr>\n",
       "      <th>11</th>\n",
       "      <td>[92, 62, 72]</td>\n",
       "      <td>Alan</td>\n",
       "    </tr>\n",
       "  </tbody>\n",
       "</table>\n",
       "</div>"
      ],
      "text/plain": [
       "      examGrades     name\n",
       "0   [62, 85, 80]    Sally\n",
       "1   [88, 79, 67]     Jane\n",
       "2   [94, 74, 95]    Suzie\n",
       "3   [98, 96, 88]    Billy\n",
       "4   [77, 92, 98]      Ada\n",
       "5   [79, 76, 93]     John\n",
       "6   [82, 64, 81]   Thomas\n",
       "7   [93, 63, 90]    Marie\n",
       "8   [92, 62, 87]   Albert\n",
       "9   [69, 80, 94]  Richard\n",
       "10  [92, 99, 93]    Isaac\n",
       "11  [92, 62, 72]     Alan"
      ]
     },
     "execution_count": 14,
     "metadata": {},
     "output_type": "execute_result"
    }
   ],
   "source": [
    "import pandas as pd\n",
    "\n",
    "df_s = pd.DataFrame(bayes['Students'])\n",
    "\n",
    "df_s"
   ]
  },
  {
   "cell_type": "markdown",
   "metadata": {},
   "source": [
    "***Observation:*** *Each student's grades are returned as a lists with in one single column.*"
   ]
  },
  {
   "cell_type": "markdown",
   "metadata": {},
   "source": [
    "### Going Rogue"
   ]
  },
  {
   "cell_type": "code",
   "execution_count": 19,
   "metadata": {},
   "outputs": [
    {
     "data": {
      "text/html": [
       "<div>\n",
       "<style scoped>\n",
       "    .dataframe tbody tr th:only-of-type {\n",
       "        vertical-align: middle;\n",
       "    }\n",
       "\n",
       "    .dataframe tbody tr th {\n",
       "        vertical-align: top;\n",
       "    }\n",
       "\n",
       "    .dataframe thead th {\n",
       "        text-align: right;\n",
       "    }\n",
       "</style>\n",
       "<table border=\"1\" class=\"dataframe\">\n",
       "  <thead>\n",
       "    <tr style=\"text-align: right;\">\n",
       "      <th></th>\n",
       "      <th>name</th>\n",
       "      <th>g1</th>\n",
       "      <th>g2</th>\n",
       "      <th>g3</th>\n",
       "    </tr>\n",
       "  </thead>\n",
       "  <tbody>\n",
       "    <tr>\n",
       "      <th>0</th>\n",
       "      <td>Sally</td>\n",
       "      <td>62</td>\n",
       "      <td>85</td>\n",
       "      <td>80</td>\n",
       "    </tr>\n",
       "    <tr>\n",
       "      <th>1</th>\n",
       "      <td>Jane</td>\n",
       "      <td>88</td>\n",
       "      <td>79</td>\n",
       "      <td>67</td>\n",
       "    </tr>\n",
       "    <tr>\n",
       "      <th>2</th>\n",
       "      <td>Suzie</td>\n",
       "      <td>94</td>\n",
       "      <td>74</td>\n",
       "      <td>95</td>\n",
       "    </tr>\n",
       "    <tr>\n",
       "      <th>3</th>\n",
       "      <td>Billy</td>\n",
       "      <td>98</td>\n",
       "      <td>96</td>\n",
       "      <td>88</td>\n",
       "    </tr>\n",
       "    <tr>\n",
       "      <th>4</th>\n",
       "      <td>Ada</td>\n",
       "      <td>77</td>\n",
       "      <td>92</td>\n",
       "      <td>98</td>\n",
       "    </tr>\n",
       "    <tr>\n",
       "      <th>5</th>\n",
       "      <td>John</td>\n",
       "      <td>79</td>\n",
       "      <td>76</td>\n",
       "      <td>93</td>\n",
       "    </tr>\n",
       "    <tr>\n",
       "      <th>6</th>\n",
       "      <td>Thomas</td>\n",
       "      <td>82</td>\n",
       "      <td>64</td>\n",
       "      <td>81</td>\n",
       "    </tr>\n",
       "    <tr>\n",
       "      <th>7</th>\n",
       "      <td>Marie</td>\n",
       "      <td>93</td>\n",
       "      <td>63</td>\n",
       "      <td>90</td>\n",
       "    </tr>\n",
       "    <tr>\n",
       "      <th>8</th>\n",
       "      <td>Albert</td>\n",
       "      <td>92</td>\n",
       "      <td>62</td>\n",
       "      <td>87</td>\n",
       "    </tr>\n",
       "    <tr>\n",
       "      <th>9</th>\n",
       "      <td>Richard</td>\n",
       "      <td>69</td>\n",
       "      <td>80</td>\n",
       "      <td>94</td>\n",
       "    </tr>\n",
       "    <tr>\n",
       "      <th>10</th>\n",
       "      <td>Isaac</td>\n",
       "      <td>92</td>\n",
       "      <td>99</td>\n",
       "      <td>93</td>\n",
       "    </tr>\n",
       "    <tr>\n",
       "      <th>11</th>\n",
       "      <td>Alan</td>\n",
       "      <td>92</td>\n",
       "      <td>62</td>\n",
       "      <td>72</td>\n",
       "    </tr>\n",
       "  </tbody>\n",
       "</table>\n",
       "</div>"
      ],
      "text/plain": [
       "       name  g1  g2  g3\n",
       "0     Sally  62  85  80\n",
       "1      Jane  88  79  67\n",
       "2     Suzie  94  74  95\n",
       "3     Billy  98  96  88\n",
       "4       Ada  77  92  98\n",
       "5      John  79  76  93\n",
       "6    Thomas  82  64  81\n",
       "7     Marie  93  63  90\n",
       "8    Albert  92  62  87\n",
       "9   Richard  69  80  94\n",
       "10    Isaac  92  99  93\n",
       "11     Alan  92  62  72"
      ]
     },
     "execution_count": 19,
     "metadata": {},
     "output_type": "execute_result"
    }
   ],
   "source": [
    "df_sk = df_s.copy()\n",
    "\n",
    "for g in range(3):\n",
    "    c = 'g'+str(g+1)\n",
    "    df_sk[c] = df_sk.examGrades.apply(lambda x: x[g])\n",
    "    \n",
    "df_sk = df_sk.drop(columns='examGrades')\n",
    "\n",
    "df_sk"
   ]
  },
  {
   "cell_type": "markdown",
   "metadata": {},
   "source": [
    "##### Zack's alternative:"
   ]
  },
  {
   "cell_type": "code",
   "execution_count": 18,
   "metadata": {},
   "outputs": [
    {
     "data": {
      "text/html": [
       "<div>\n",
       "<style scoped>\n",
       "    .dataframe tbody tr th:only-of-type {\n",
       "        vertical-align: middle;\n",
       "    }\n",
       "\n",
       "    .dataframe tbody tr th {\n",
       "        vertical-align: top;\n",
       "    }\n",
       "\n",
       "    .dataframe thead th {\n",
       "        text-align: right;\n",
       "    }\n",
       "</style>\n",
       "<table border=\"1\" class=\"dataframe\">\n",
       "  <thead>\n",
       "    <tr style=\"text-align: right;\">\n",
       "      <th></th>\n",
       "      <th>examGrades</th>\n",
       "      <th>name</th>\n",
       "      <th>0</th>\n",
       "      <th>1</th>\n",
       "      <th>2</th>\n",
       "    </tr>\n",
       "  </thead>\n",
       "  <tbody>\n",
       "    <tr>\n",
       "      <th>0</th>\n",
       "      <td>[62, 85, 80]</td>\n",
       "      <td>Sally</td>\n",
       "      <td>62</td>\n",
       "      <td>85</td>\n",
       "      <td>80</td>\n",
       "    </tr>\n",
       "    <tr>\n",
       "      <th>1</th>\n",
       "      <td>[88, 79, 67]</td>\n",
       "      <td>Jane</td>\n",
       "      <td>88</td>\n",
       "      <td>79</td>\n",
       "      <td>67</td>\n",
       "    </tr>\n",
       "    <tr>\n",
       "      <th>2</th>\n",
       "      <td>[94, 74, 95]</td>\n",
       "      <td>Suzie</td>\n",
       "      <td>94</td>\n",
       "      <td>74</td>\n",
       "      <td>95</td>\n",
       "    </tr>\n",
       "    <tr>\n",
       "      <th>3</th>\n",
       "      <td>[98, 96, 88]</td>\n",
       "      <td>Billy</td>\n",
       "      <td>98</td>\n",
       "      <td>96</td>\n",
       "      <td>88</td>\n",
       "    </tr>\n",
       "    <tr>\n",
       "      <th>4</th>\n",
       "      <td>[77, 92, 98]</td>\n",
       "      <td>Ada</td>\n",
       "      <td>77</td>\n",
       "      <td>92</td>\n",
       "      <td>98</td>\n",
       "    </tr>\n",
       "    <tr>\n",
       "      <th>5</th>\n",
       "      <td>[79, 76, 93]</td>\n",
       "      <td>John</td>\n",
       "      <td>79</td>\n",
       "      <td>76</td>\n",
       "      <td>93</td>\n",
       "    </tr>\n",
       "    <tr>\n",
       "      <th>6</th>\n",
       "      <td>[82, 64, 81]</td>\n",
       "      <td>Thomas</td>\n",
       "      <td>82</td>\n",
       "      <td>64</td>\n",
       "      <td>81</td>\n",
       "    </tr>\n",
       "    <tr>\n",
       "      <th>7</th>\n",
       "      <td>[93, 63, 90]</td>\n",
       "      <td>Marie</td>\n",
       "      <td>93</td>\n",
       "      <td>63</td>\n",
       "      <td>90</td>\n",
       "    </tr>\n",
       "    <tr>\n",
       "      <th>8</th>\n",
       "      <td>[92, 62, 87]</td>\n",
       "      <td>Albert</td>\n",
       "      <td>92</td>\n",
       "      <td>62</td>\n",
       "      <td>87</td>\n",
       "    </tr>\n",
       "    <tr>\n",
       "      <th>9</th>\n",
       "      <td>[69, 80, 94]</td>\n",
       "      <td>Richard</td>\n",
       "      <td>69</td>\n",
       "      <td>80</td>\n",
       "      <td>94</td>\n",
       "    </tr>\n",
       "    <tr>\n",
       "      <th>10</th>\n",
       "      <td>[92, 99, 93]</td>\n",
       "      <td>Isaac</td>\n",
       "      <td>92</td>\n",
       "      <td>99</td>\n",
       "      <td>93</td>\n",
       "    </tr>\n",
       "    <tr>\n",
       "      <th>11</th>\n",
       "      <td>[92, 62, 72]</td>\n",
       "      <td>Alan</td>\n",
       "      <td>92</td>\n",
       "      <td>62</td>\n",
       "      <td>72</td>\n",
       "    </tr>\n",
       "  </tbody>\n",
       "</table>\n",
       "</div>"
      ],
      "text/plain": [
       "      examGrades     name   0   1   2\n",
       "0   [62, 85, 80]    Sally  62  85  80\n",
       "1   [88, 79, 67]     Jane  88  79  67\n",
       "2   [94, 74, 95]    Suzie  94  74  95\n",
       "3   [98, 96, 88]    Billy  98  96  88\n",
       "4   [77, 92, 98]      Ada  77  92  98\n",
       "5   [79, 76, 93]     John  79  76  93\n",
       "6   [82, 64, 81]   Thomas  82  64  81\n",
       "7   [93, 63, 90]    Marie  93  63  90\n",
       "8   [92, 62, 87]   Albert  92  62  87\n",
       "9   [69, 80, 94]  Richard  69  80  94\n",
       "10  [92, 99, 93]    Isaac  92  99  93\n",
       "11  [92, 62, 72]     Alan  92  62  72"
      ]
     },
     "execution_count": 18,
     "metadata": {},
     "output_type": "execute_result"
    }
   ],
   "source": [
    "grades = df_s.examGrades.apply(pd.Series)\n",
    "df_sz = df_s.join(grades)\n",
    "df_sz"
   ]
  },
  {
   "cell_type": "code",
   "execution_count": null,
   "metadata": {},
   "outputs": [],
   "source": []
  }
 ],
 "metadata": {
  "kernelspec": {
   "display_name": "Python 3",
   "language": "python",
   "name": "python3"
  },
  "language_info": {
   "codemirror_mode": {
    "name": "ipython",
    "version": 3
   },
   "file_extension": ".py",
   "mimetype": "text/x-python",
   "name": "python",
   "nbconvert_exporter": "python",
   "pygments_lexer": "ipython3",
   "version": "3.7.3"
  }
 },
 "nbformat": 4,
 "nbformat_minor": 2
}
